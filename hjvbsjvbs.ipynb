{
 "cells": [
  {
   "cell_type": "code",
   "execution_count": 1,
   "id": "54d6cdd5",
   "metadata": {},
   "outputs": [
    {
     "data": {
      "text/plain": [
       "2"
      ]
     },
     "execution_count": 1,
     "metadata": {},
     "output_type": "execute_result"
    }
   ],
   "source": [
    "1+1"
   ]
  },
  {
   "cell_type": "code",
   "execution_count": 2,
   "id": "07baf3e2",
   "metadata": {},
   "outputs": [
    {
     "data": {
      "text/plain": [
       "127"
      ]
     },
     "execution_count": 2,
     "metadata": {},
     "output_type": "execute_result"
    }
   ],
   "source": [
    "69+58"
   ]
  },
  {
   "cell_type": "code",
   "execution_count": 4,
   "id": "274fb10f",
   "metadata": {},
   "outputs": [
    {
     "data": {
      "text/plain": [
       "3430"
      ]
     },
     "execution_count": 4,
     "metadata": {},
     "output_type": "execute_result"
    }
   ],
   "source": [
    "98*35"
   ]
  },
  {
   "cell_type": "markdown",
   "id": "04912e26",
   "metadata": {},
   "source": [
    "# Rocky\n"
   ]
  },
  {
   "cell_type": "code",
   "execution_count": 5,
   "id": "26c02a39",
   "metadata": {},
   "outputs": [
    {
     "data": {
      "text/plain": [
       "0.8333333333333334"
      ]
     },
     "execution_count": 5,
     "metadata": {},
     "output_type": "execute_result"
    }
   ],
   "source": [
    "65/78"
   ]
  },
  {
   "cell_type": "raw",
   "id": "62ef92fe",
   "metadata": {},
   "source": [
    "fvneajbvka\n",
    "dgkhkvfn fe\n",
    "vefkvbnejfklb"
   ]
  },
  {
   "cell_type": "code",
   "execution_count": 6,
   "id": "59930c81",
   "metadata": {},
   "outputs": [
    {
     "ename": "NameError",
     "evalue": "name 'vjefbhjevmenv' is not defined",
     "output_type": "error",
     "traceback": [
      "\u001b[1;31m---------------------------------------------------------------------------\u001b[0m",
      "\u001b[1;31mNameError\u001b[0m                                 Traceback (most recent call last)",
      "\u001b[1;32m~\\AppData\\Local\\Temp\\ipykernel_21224\\679552481.py\u001b[0m in \u001b[0;36m<module>\u001b[1;34m\u001b[0m\n\u001b[1;32m----> 1\u001b[1;33m \u001b[0mvjefbhjevmenv\u001b[0m\u001b[1;33m\u001b[0m\u001b[1;33m\u001b[0m\u001b[0m\n\u001b[0m",
      "\u001b[1;31mNameError\u001b[0m: name 'vjefbhjevmenv' is not defined"
     ]
    }
   ],
   "source": [
    "vjefbhjevmenv"
   ]
  },
  {
   "cell_type": "code",
   "execution_count": 7,
   "id": "4a6a4215",
   "metadata": {},
   "outputs": [
    {
     "ename": "NameError",
     "evalue": "name 'vekjvneknvk' is not defined",
     "output_type": "error",
     "traceback": [
      "\u001b[1;31m---------------------------------------------------------------------------\u001b[0m",
      "\u001b[1;31mNameError\u001b[0m                                 Traceback (most recent call last)",
      "\u001b[1;32m~\\AppData\\Local\\Temp\\ipykernel_21224\\855729159.py\u001b[0m in \u001b[0;36m<module>\u001b[1;34m\u001b[0m\n\u001b[1;32m----> 1\u001b[1;33m \u001b[0mvekjvneknvk\u001b[0m\u001b[1;33m\u001b[0m\u001b[1;33m\u001b[0m\u001b[0m\n\u001b[0m",
      "\u001b[1;31mNameError\u001b[0m: name 'vekjvneknvk' is not defined"
     ]
    }
   ],
   "source": [
    "vekjvneknvk"
   ]
  },
  {
   "cell_type": "raw",
   "id": "f8f50c42",
   "metadata": {},
   "source": [
    "vkjnejvnvkjevj"
   ]
  },
  {
   "cell_type": "code",
   "execution_count": 8,
   "id": "ef25c1b6",
   "metadata": {},
   "outputs": [
    {
     "ename": "SyntaxError",
     "evalue": "invalid syntax (4139184740.py, line 1)",
     "output_type": "error",
     "traceback": [
      "\u001b[1;36m  File \u001b[1;32m\"C:\\Users\\hp\\AppData\\Local\\Temp\\ipykernel_21224\\4139184740.py\"\u001b[1;36m, line \u001b[1;32m1\u001b[0m\n\u001b[1;33m    vefnv ernmv\u001b[0m\n\u001b[1;37m          ^\u001b[0m\n\u001b[1;31mSyntaxError\u001b[0m\u001b[1;31m:\u001b[0m invalid syntax\n"
     ]
    }
   ],
   "source": [
    "vefnv ernmv "
   ]
  },
  {
   "cell_type": "raw",
   "id": "81c93d48",
   "metadata": {},
   "source": [
    "\n",
    "vmefkjvef\n",
    "evmeklvervnevknejvne\n",
    "verkvnkenjv\n",
    "vmlervkje\n",
    "evlerlvm\n",
    "evekvmkev\n",
    "erlvker'vler\n",
    "vrwf\n",
    "rv\n",
    "r\n",
    "\n",
    "r"
   ]
  },
  {
   "cell_type": "code",
   "execution_count": 9,
   "id": "b54cc3f1",
   "metadata": {},
   "outputs": [
    {
     "ename": "SyntaxError",
     "evalue": "unmatched ']' (4125770413.py, line 2)",
     "output_type": "error",
     "traceback": [
      "\u001b[1;36m  File \u001b[1;32m\"C:\\Users\\hp\\AppData\\Local\\Temp\\ipykernel_21224\\4125770413.py\"\u001b[1;36m, line \u001b[1;32m2\u001b[0m\n\u001b[1;33m    vemklvmle]\u001b[0m\n\u001b[1;37m             ^\u001b[0m\n\u001b[1;31mSyntaxError\u001b[0m\u001b[1;31m:\u001b[0m unmatched ']'\n"
     ]
    }
   ],
   "source": [
    "fvejnververlvlervlll\n",
    "vemklvmle]\n",
    "everv\n",
    "vm"
   ]
  },
  {
   "cell_type": "code",
   "execution_count": null,
   "id": "79d165c9",
   "metadata": {},
   "outputs": [],
   "source": []
  }
 ],
 "metadata": {
  "kernelspec": {
   "display_name": "Python 3 (ipykernel)",
   "language": "python",
   "name": "python3"
  },
  "language_info": {
   "codemirror_mode": {
    "name": "ipython",
    "version": 3
   },
   "file_extension": ".py",
   "mimetype": "text/x-python",
   "name": "python",
   "nbconvert_exporter": "python",
   "pygments_lexer": "ipython3",
   "version": "3.9.13"
  }
 },
 "nbformat": 4,
 "nbformat_minor": 5
}
